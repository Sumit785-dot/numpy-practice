{
 "cells": [
  {
   "cell_type": "code",
   "execution_count": 1,
   "id": "944774fe-288b-4666-90a8-9b1a519ccb60",
   "metadata": {},
   "outputs": [
    {
     "name": "stdout",
     "output_type": "stream",
     "text": [
      "[ 1  2  3  4  5  6  7  8  9 10]\n"
     ]
    }
   ],
   "source": [
    "#Ek NumPy array banao jisme 1 se 10 tak numbers ho\n",
    "\n",
    "import numpy as np\n",
    "\n",
    "arr = np.array([1,2,3,4,5,6,7,8,9,10])\n",
    "print(arr)\n"
   ]
  },
  {
   "cell_type": "code",
   "execution_count": 9,
   "id": "6345dde1-c593-4a12-ab4a-fb43aa53c3fb",
   "metadata": {},
   "outputs": [
    {
     "name": "stdout",
     "output_type": "stream",
     "text": [
      "[[ 5 10 18]\n",
      " [ 6  5 18]\n",
      " [ 1 21 18]]\n",
      "[[ 3  1  3  5  6]\n",
      " [ 5  5 11  7 11]\n",
      " [ 9 10  2  1  4]\n",
      " [10 10  4  8  5]\n",
      " [ 1  1  9 10  5]]\n"
     ]
    }
   ],
   "source": [
    "#Ek 2D array banao (3x3) random integers ke saath.\n",
    "\n",
    "import numpy as np\n",
    "arr=np.random.randint(1,23,size=(3,3))\n",
    "print(arr)\n",
    "\n",
    "\n",
    "arrr=np.random.randint(1,12,size=(5,5))\n",
    "print(arrr)"
   ]
  },
  {
   "cell_type": "code",
   "execution_count": 6,
   "id": "a8b35cf8-9198-4fd2-bd1b-e4d070b71655",
   "metadata": {},
   "outputs": [
    {
     "name": "stdout",
     "output_type": "stream",
     "text": [
      "data type  int32\n",
      "shape (5, 5)\n",
      "size 25\n"
     ]
    }
   ],
   "source": [
    "#Array ka shape, size, aur datatype print karo.\n",
    "import numpy as np\n",
    "var=np.random.randint(1,12,size=(5,5))\n",
    "print(\"data type \",var.dtype)\n",
    "print(\"shape\",var.shape)\n",
    "print(\"size\",var.size)"
   ]
  },
  {
   "cell_type": "code",
   "execution_count": 12,
   "id": "9831ee9a-c4d8-45c6-aa8f-fbbea01e6ac4",
   "metadata": {},
   "outputs": [
    {
     "name": "stdout",
     "output_type": "stream",
     "text": [
      "minimam size 1\n",
      "maximam size 4\n",
      "Average size 2.5\n",
      "sum of array 10\n"
     ]
    }
   ],
   "source": [
    "#1D array ka max, min, mean, sum nikalna.\n",
    "\n",
    "import numpy as np\n",
    "\n",
    "arr=np.array([1,2,3,4])\n",
    "print(\"minimam size\",np.min(arr))\n",
    "print(\"maximam size\",np.max(arr))\n",
    "print(\"Average size\",np.mean(arr))\n",
    "print(\"sum of array\",np.sum(arr))"
   ]
  },
  {
   "cell_type": "code",
   "execution_count": 17,
   "id": "32c12fb3-ef81-47ed-9b58-b3ba24f1275f",
   "metadata": {},
   "outputs": [
    {
     "name": "stdout",
     "output_type": "stream",
     "text": [
      "[[ 1  2  3  4  5]\n",
      " [ 6  7  8  9 10]]\n"
     ]
    }
   ],
   "source": [
    "#Array ko reshape karke (2x5) bana do.\n",
    "#2*5==10 ok to ham ko 1d array me 10 lena padhe ga \n",
    "import numpy as np \n",
    "arr=np.array([1,2,3,4,5,6,7,8,9,10])\n",
    "reshaPe=arr.reshape(2,5)\n",
    "print(reshaPe)"
   ]
  },
  {
   "cell_type": "code",
   "execution_count": null,
   "id": "53c74209-0d6b-443d-90d1-f9dfca9f609d",
   "metadata": {},
   "outputs": [],
   "source": [
    "#Ek array ko reverse karo.\n",
    "arr=np.array([1,2,3,4,5,6,7,8,9,10])\n",
    "print(arr[::-1]) # ye indexing se hota hai \n",
    "print(np.flip(arr))# ye funtion use karke bhi hota hai \n"
   ]
  },
  {
   "cell_type": "markdown",
   "id": "5e3227c0-3e6d-4299-a400-01fc5ee80289",
   "metadata": {},
   "source": [
    "#Indexing & Slicing"
   ]
  },
  {
   "cell_type": "code",
   "execution_count": 27,
   "id": "ff01076c-6ae7-45fd-a341-a2eabff9a13f",
   "metadata": {},
   "outputs": [
    {
     "name": "stdout",
     "output_type": "stream",
     "text": [
      "[4 5 6 7]\n"
     ]
    }
   ],
   "source": [
    "#Ek array ka 3rd se 7th element print karo.\n",
    "arr=np.array([1,2,3,4,5,6,7,8,9,10])\n",
    "print(arr[3:7])   # [start:end:step:]"
   ]
  },
  {
   "cell_type": "code",
   "execution_count": 32,
   "id": "0ab2fc5d-1f2e-4a8d-b67b-a44d58da6451",
   "metadata": {},
   "outputs": [
    {
     "name": "stdout",
     "output_type": "stream",
     "text": [
      "[[ 7  6 11  6  5  5]\n",
      " [ 8  6  5  8  3  5]]\n",
      "\n",
      "the second column\n",
      "[6 6]\n"
     ]
    }
   ],
   "source": [
    "#2D array me se sirf second column lo\n",
    "arrr=np.random.randint(1,12,size=(2,6))\n",
    "print(arrr)\n",
    "print()\n",
    "print(\"the second column\")\n",
    "print(arrr[:,1])\n"
   ]
  },
  {
   "cell_type": "code",
   "execution_count": 34,
   "id": "d07da0e1-5cfc-4273-845c-c618d781e789",
   "metadata": {},
   "outputs": [
    {
     "name": "stdout",
     "output_type": "stream",
     "text": [
      "[[1. 0. 0.]\n",
      " [0. 1. 0.]\n",
      " [0. 0. 1.]]\n"
     ]
    }
   ],
   "source": [
    "#3x3 identity matrix banao.\n",
    "\n",
    "import numpy as np\n",
    "\n",
    "identitymatrics= np.identity(3)\n",
    "print(identitymatrics)"
   ]
  },
  {
   "cell_type": "code",
   "execution_count": 35,
   "id": "dfe65a74-c53f-48d6-b44c-e0aa14830623",
   "metadata": {},
   "outputs": [
    {
     "name": "stdout",
     "output_type": "stream",
     "text": [
      "[ 2  4  6  8 10]\n"
     ]
    }
   ],
   "source": [
    "#Ek array ke sirf even numbers print karo.\n",
    "import numpy as np\n",
    "arr = np.array([1, 2, 3, 4, 5, 6, 7, 8, 9, 10])\n",
    "even=arr[arr%2==0]\n",
    "print(even)"
   ]
  },
  {
   "cell_type": "code",
   "execution_count": 39,
   "id": "8613d866-e580-49d5-9a2f-18e809552351",
   "metadata": {},
   "outputs": [
    {
     "name": "stdout",
     "output_type": "stream",
     "text": [
      "[ 1  2  3  4  5  6  7  8  9 10]\n",
      "[5 6 7 8 9]\n"
     ]
    }
   ],
   "source": [
    "#Ek array ke elements ko slice karke dusre array me copy karo.\n",
    "import numpy as np\n",
    "arr = np.array([1, 2, 3, 4, 5, 6, 7, 8, 9, 10])\n",
    "arr2=arr[4:-1].copy() #es se aray ki alag copy bana gi\n",
    "print(arr)\n",
    "print(arr2)\n"
   ]
  },
  {
   "cell_type": "markdown",
   "id": "82a36b6f-358b-4581-9ed9-7be3e69793de",
   "metadata": {},
   "source": [
    "#Mathematical Operations"
   ]
  },
  {
   "cell_type": "code",
   "execution_count": 40,
   "id": "b4ce3e1a-b418-4b5d-a168-e1aeea591f25",
   "metadata": {},
   "outputs": [
    {
     "name": "stdout",
     "output_type": "stream",
     "text": [
      "[ 2  4  6  8 10 12 14 16 18 20]\n"
     ]
    }
   ],
   "source": [
    "#1D array ke har element ko 2 se multiply karo.\n",
    "arr = np.array([1, 2, 3, 4, 5, 6, 7, 8, 9, 10])\n",
    "print(arr*2)"
   ]
  },
  {
   "cell_type": "code",
   "execution_count": 44,
   "id": "28b23278-7c76-4672-ad59-521b90e56031",
   "metadata": {},
   "outputs": [
    {
     "name": "stdout",
     "output_type": "stream",
     "text": [
      "[1.         1.41421356 1.73205081 2.         2.23606798 2.44948974\n",
      " 2.64575131 2.82842712 3.         3.16227766]\n"
     ]
    }
   ],
   "source": [
    "#1D array ke har element ka square root nikalna.\n",
    "import numpy as np\n",
    "\n",
    "arr = np.array([1, 2, 3, 4, 5, 6, 7, 8, 9, 10])\n",
    "\n",
    "print(np.sqrt(arr))"
   ]
  },
  {
   "cell_type": "code",
   "execution_count": 46,
   "id": "f74bbddb-9f0c-45bc-9e45-dca1ebe9e77e",
   "metadata": {},
   "outputs": [
    {
     "name": "stdout",
     "output_type": "stream",
     "text": [
      "[5 7 9]\n",
      "32\n"
     ]
    }
   ],
   "source": [
    "#Dono arrays ka element-wise sum aur dot product.\n",
    "import numpy as np\n",
    "arr1 = np.array([1, 2, 3])\n",
    "arr2 = np.array([4, 5, 6])\n",
    "print(arr1+arr2)\n",
    "print(np.dot(arr1,arr2))"
   ]
  },
  {
   "cell_type": "code",
   "execution_count": 49,
   "id": "de651a6b-f72f-4955-a79b-db144d5de54d",
   "metadata": {},
   "outputs": [
    {
     "name": "stdout",
     "output_type": "stream",
     "text": [
      "[0.84147098 0.90929743 0.14112001]\n",
      "[ 0.54030231 -0.41614684 -0.9899925 ]\n",
      "[ 1.55740772 -2.18503986 -0.14254654]\n"
     ]
    }
   ],
   "source": [
    "#Sin, Cos aur Tan values ka array banao.\n",
    "import numpy as np\n",
    "arr1 = np.array([1, 2, 3])\n",
    "print(np.sin(arr1))\n",
    "print(np.cos(arr1))\n",
    "print(np.tan(arr1))\n"
   ]
  },
  {
   "cell_type": "code",
   "execution_count": 51,
   "id": "e3a34636-fb40-4ce7-925b-09a485bc7e17",
   "metadata": {},
   "outputs": [
    {
     "name": "stdout",
     "output_type": "stream",
     "text": [
      "Original Array:\n",
      " [[1 2 3]\n",
      " [4 5 6]\n",
      " [7 8 9]]\n",
      "\n",
      "After Broadcasting (+10):\n",
      " [[11 12 13]\n",
      " [14 15 16]\n",
      " [17 18 19]]\n"
     ]
    }
   ],
   "source": [
    "#Broadcasting ka use karke har row me +10 add karo. \n",
    "arr = np.array([[1, 2, 3],\n",
    "                [4, 5, 6],\n",
    "                [7, 8, 9]])\n",
    "result=arr+10\n",
    "print(\"Original Array:\\n\", arr)\n",
    "print(\"\\nAfter Broadcasting (+10):\\n\", result)\n"
   ]
  },
  {
   "cell_type": "markdown",
   "id": "0e0a7376-0b77-42be-8bd2-6e3d29604692",
   "metadata": {},
   "source": [
    "Random, Unique & Sorting"
   ]
  },
  {
   "cell_type": "code",
   "execution_count": 53,
   "id": "475b777b-b367-47c6-bde0-553d58b16faa",
   "metadata": {},
   "outputs": [
    {
     "name": "stdout",
     "output_type": "stream",
     "text": [
      "[29 47 46 88 72 22  4 70 23 62  7 57  6 73 94]\n"
     ]
    }
   ],
   "source": [
    "#Random integers ka array banao (size = 15, 1 to 100 range).\n",
    "arr=np.random.randint(1,100,size=15)\n",
    "print(arr)"
   ]
  },
  {
   "cell_type": "code",
   "execution_count": 55,
   "id": "440abc32-a68a-41cf-afc2-b8c8a44f0ece",
   "metadata": {},
   "outputs": [
    {
     "ename": "TypeError",
     "evalue": "unique() got an unexpected keyword argument 'return_count'",
     "output_type": "error",
     "traceback": [
      "\u001b[1;31m---------------------------------------------------------------------------\u001b[0m",
      "\u001b[1;31mTypeError\u001b[0m                                 Traceback (most recent call last)",
      "Cell \u001b[1;32mIn[55], line 3\u001b[0m\n\u001b[0;32m      1\u001b[0m \u001b[38;5;66;03m#Array ke unique values aur unki count nikalna\u001b[39;00m\n\u001b[0;32m      2\u001b[0m arr\u001b[38;5;241m=\u001b[39mnp\u001b[38;5;241m.\u001b[39marray([\u001b[38;5;241m1\u001b[39m,\u001b[38;5;241m1\u001b[39m,\u001b[38;5;241m1\u001b[39m,\u001b[38;5;241m2\u001b[39m,\u001b[38;5;241m3\u001b[39m,\u001b[38;5;241m4\u001b[39m,\u001b[38;5;241m4\u001b[39m,\u001b[38;5;241m4\u001b[39m,\u001b[38;5;241m4\u001b[39m,\u001b[38;5;241m5\u001b[39m,\u001b[38;5;241m6\u001b[39m,\u001b[38;5;241m6\u001b[39m,\u001b[38;5;241m6\u001b[39m,\u001b[38;5;241m7\u001b[39m,\u001b[38;5;241m7\u001b[39m,\u001b[38;5;241m7\u001b[39m,\u001b[38;5;241m8\u001b[39m,\u001b[38;5;241m8\u001b[39m,\u001b[38;5;241m8\u001b[39m,\u001b[38;5;241m8\u001b[39m,\u001b[38;5;241m8\u001b[39m])\n\u001b[1;32m----> 3\u001b[0m unique_array,count\u001b[38;5;241m=\u001b[39m\u001b[43mnp\u001b[49m\u001b[38;5;241;43m.\u001b[39;49m\u001b[43munique\u001b[49m\u001b[43m(\u001b[49m\u001b[43marr\u001b[49m\u001b[43m,\u001b[49m\u001b[43mreturn_count\u001b[49m\u001b[38;5;241;43m=\u001b[39;49m\u001b[38;5;28;43;01mTrue\u001b[39;49;00m\u001b[43m)\u001b[49m\n\u001b[0;32m      4\u001b[0m \u001b[38;5;28mprint\u001b[39m(\u001b[38;5;124m\"\u001b[39m\u001b[38;5;124mUnique Values:\u001b[39m\u001b[38;5;124m\"\u001b[39m, unique_values)\n\u001b[0;32m      5\u001b[0m \u001b[38;5;28mprint\u001b[39m(\u001b[38;5;124m\"\u001b[39m\u001b[38;5;124mCounts:\u001b[39m\u001b[38;5;124m\"\u001b[39m, counts)\n",
      "\u001b[1;31mTypeError\u001b[0m: unique() got an unexpected keyword argument 'return_count'"
     ]
    }
   ],
   "source": [
    "#Array ke unique values aur unki count nikalna\n",
    "arr=np.array([1,1,1,2,3,4,4,4,4,5,6,6,6,7,7,7,8,8,8,8,8])\n",
    "unique_array,count=np.unique(arr,return_count=True)\n",
    "print(\"Unique Values:\", unique_values)\n",
    "print(\"Counts:\", counts)\n"
   ]
  },
  {
   "cell_type": "code",
   "execution_count": 1,
   "id": "cf927546-9604-4e51-b77d-c0c8793c5f0c",
   "metadata": {},
   "outputs": [
    {
     "name": "stdout",
     "output_type": "stream",
     "text": [
      "[1 2 3 4]\n"
     ]
    },
    {
     "ename": "ValueError",
     "evalue": "cannot reshape array of size 4 into shape (2,5)",
     "output_type": "error",
     "traceback": [
      "\u001b[1;31m---------------------------------------------------------------------------\u001b[0m",
      "\u001b[1;31mValueError\u001b[0m                                Traceback (most recent call last)",
      "Cell \u001b[1;32mIn[1], line 7\u001b[0m\n\u001b[0;32m      4\u001b[0m arr\u001b[38;5;241m=\u001b[39mnp\u001b[38;5;241m.\u001b[39marray([\u001b[38;5;241m1\u001b[39m,\u001b[38;5;241m2\u001b[39m,\u001b[38;5;241m3\u001b[39m,\u001b[38;5;241m4\u001b[39m])\n\u001b[0;32m      5\u001b[0m \u001b[38;5;28mprint\u001b[39m(arr)\n\u001b[1;32m----> 7\u001b[0m reshaPe\u001b[38;5;241m=\u001b[39m\u001b[43marr\u001b[49m\u001b[38;5;241;43m.\u001b[39;49m\u001b[43mreshape\u001b[49m\u001b[43m(\u001b[49m\u001b[38;5;241;43m2\u001b[39;49m\u001b[43m,\u001b[49m\u001b[38;5;241;43m5\u001b[39;49m\u001b[43m)\u001b[49m\n\u001b[0;32m      8\u001b[0m \u001b[38;5;28mprint\u001b[39m(reshaPr)\n",
      "\u001b[1;31mValueError\u001b[0m: cannot reshape array of size 4 into shape (2,5)"
     ]
    }
   ],
   "source": [
    "#Array ko reshape karke (2x5) bana do.\n",
    "import numpy as np\n",
    "\n",
    "arr=np.array([1,2,3,4])\n",
    "print(arr)\n",
    "\n",
    "reshaPe=arr.reshape(2,5)\n",
    "print(reshaPr)"
   ]
  },
  {
   "cell_type": "code",
   "execution_count": 3,
   "id": "bbf74003-6d68-474a-b2af-5d0ca6ae5b05",
   "metadata": {},
   "outputs": [
    {
     "name": "stdout",
     "output_type": "stream",
     "text": [
      "Unique Values: [1 2 3 4 5 6 7]\n",
      "Counts: [4 5 4 3 1 2 1]\n"
     ]
    }
   ],
   "source": [
    "#Array ke unique values aur unki count nikalna.\n",
    "import numpy as np\n",
    "\n",
    "arr = np.array([1,1,1,1,2,2,2,2, 2,3,3,3, 3, 4, 4, 4, 5, 6, 6, 7])\n",
    "\n",
    "unique_values, counts = np.unique(arr, return_counts=True)\n",
    "\n",
    "print(\"Unique Values:\", unique_values)\n",
    "print(\"Counts:\", counts)\n"
   ]
  },
  {
   "cell_type": "code",
   "execution_count": 8,
   "id": "ae409a53-2c16-4d48-b60b-2fd26d3d7ca3",
   "metadata": {},
   "outputs": [
    {
     "name": "stdout",
     "output_type": "stream",
     "text": [
      "ascending [1 1 2 3 4 4 5]\n",
      " Descending [5 4 4 3 2 1 1]\n"
     ]
    }
   ],
   "source": [
    "#Array ko ascending aur descending sort karo.\n",
    "import numpy as np\n",
    "\n",
    "arr = np.array([4, 5, 4, 3, 1, 2, 1])\n",
    "\n",
    "\n",
    "print(\"ascending\",np.sort(arr))\n",
    "\n",
    "\n",
    "print(\" Descending\",np.sort(arr)[::-1])\n"
   ]
  },
  {
   "cell_type": "code",
   "execution_count": 13,
   "id": "2424ae18-dafb-4427-82bb-f20965b466a3",
   "metadata": {},
   "outputs": [
    {
     "name": "stdout",
     "output_type": "stream",
     "text": [
      "[ 4 84 27 61 54 15 39 45 61 47]\n",
      "standard deviation :: 22.454620905283615\n",
      "median deviation :: 46.0\n"
     ]
    }
   ],
   "source": [
    "#Random array ka median aur standard deviation nikalna.\n",
    "import numpy as np\n",
    "\n",
    "arr = np.random.randint(1, 100, size=10)\n",
    "print(arr)\n",
    "\n",
    "print(\"standard deviation ::\",np.std(arr))\n",
    "print(\"median deviation ::\",np.median(arr))"
   ]
  },
  {
   "cell_type": "markdown",
   "id": "aa32a4af-6ca4-4c3b-903d-821ec1064c0c",
   "metadata": {},
   "source": [
    "#Logical & Filtering"
   ]
  },
  {
   "cell_type": "code",
   "execution_count": 18,
   "id": "ea42de13-586e-475f-93c5-4a2e44236d92",
   "metadata": {},
   "outputs": [
    {
     "name": "stdout",
     "output_type": "stream",
     "text": [
      "[81 62 54]\n"
     ]
    }
   ],
   "source": [
    "#Ek array me se sirf 50 se bade numbers filter karo\n",
    "import numpy as np\n",
    "arr=np.array([81,62,43,44,54])\n",
    "arr2=arr[arr>=50]\n",
    "print(arr2)"
   ]
  },
  {
   "cell_type": "code",
   "execution_count": 21,
   "id": "4ee2e1cb-1ddf-454f-9317-bcae0cb30621",
   "metadata": {},
   "outputs": [
    {
     "name": "stdout",
     "output_type": "stream",
     "text": [
      "[33 45 60]\n"
     ]
    }
   ],
   "source": [
    "#Boolean mask ka use karke values replace karo (e.g., jo 30 se chhote hain unko 0 bana do).\n",
    "arr = np.array([10, 25, 33, 45, 5, 60])\n",
    "mask = arr < 30\n",
    "\n",
    "arr[mask] = 0 # replace  kare ga30 se chhota hua t0"
   ]
  },
  {
   "cell_type": "code",
   "execution_count": 23,
   "id": "18e4bb28-361f-495e-9fce-74e47e8e3d8a",
   "metadata": {},
   "outputs": [
    {
     "name": "stdout",
     "output_type": "stream",
     "text": [
      "['O' 'E' 'O' 'E' 'O' 'E']\n"
     ]
    }
   ],
   "source": [
    "#NumPy ka where() use karke even ko \"E\" aur odd ko \"O\" me convert karo.\n",
    "import numpy as np\n",
    "\n",
    "arr = np.array([1, 2, 3, 4, 5, 6])\n",
    "resu=np.where(arr%2==0,\"E\",\"O\")\n",
    "print(resu)\n"
   ]
  },
  {
   "cell_type": "code",
   "execution_count": null,
   "id": "7f886045-e22a-4236-accf-28165a49a1cd",
   "metadata": {},
   "outputs": [],
   "source": []
  }
 ],
 "metadata": {
  "kernelspec": {
   "display_name": "Python 3 (ipykernel)",
   "language": "python",
   "name": "python3"
  },
  "language_info": {
   "codemirror_mode": {
    "name": "ipython",
    "version": 3
   },
   "file_extension": ".py",
   "mimetype": "text/x-python",
   "name": "python",
   "nbconvert_exporter": "python",
   "pygments_lexer": "ipython3",
   "version": "3.12.6"
  }
 },
 "nbformat": 4,
 "nbformat_minor": 5
}
